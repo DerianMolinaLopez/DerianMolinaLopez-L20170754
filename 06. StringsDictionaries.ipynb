{
  "cells": [
    {
      "attachments": {},
      "cell_type": "markdown",
      "metadata": {},
      "source": [
        "# Strings y Diccionarios\n",
        "\n",
        "En este JNB se revisará el tema de Strings y Diccionarios."
      ]
    },
    {
      "cell_type": "code",
      "execution_count": null,
      "metadata": {},
      "outputs": [],
      "source": [
        "def is_valid_zipcode(zipcode):\n",
        "   \n",
        "    # Check if the input string is exactly 5 characters and consists of digits\n",
        "    return len(zipcode) == 5 and zipcode.isdigit()\n",
        "\n",
        "# Test cases\n",
        "print(is_valid_zipcode(\"12345\"))  # Should return True\n",
        "print(is_valid_zipcode(\"90210\"))  # Should return True\n",
        "print(is_valid_zipcode(\"AB123\"))  # Should return False\n",
        "print(is_valid_zipcode(\"1234\"))   # Should return False\n",
        "\n",
        "# Define the is_valid_zip variable for code checking\n",
        "is_valid_zip = is_valid_zipcode"
      ]
    },
    {
      "cell_type": "code",
      "execution_count": null,
      "metadata": {},
      "outputs": [],
      "source": [
        "\n",
        "def word_search(doc_list, keyword):\n",
        "    \n",
        "    indices = []\n",
        "    for i, doc in enumerate(doc_list):\n",
        "        tokens = doc.split()\n",
        "        normalized = [token.rstrip('.,').lower() for token in tokens]\n",
        "        if keyword.lower() in normalized:\n",
        "            indices.append(i)\n",
        "    return indices"
      ]
    },
    {
      "cell_type": "code",
      "execution_count": null,
      "metadata": {},
      "outputs": [],
      "source": [
        "def multi_word_search(documents, keywords):\n",
        "    keyword_to_indices = {}\n",
        "    for keyword in keywords:\n",
        "        keyword_to_indices[keyword] = word_search(documents, keyword)\n",
        "    return keyword_to_indices"
      ]
    },
    {
      "cell_type": "code",
      "execution_count": null,
      "metadata": {
        "id": "O8NoTzxjs2wK",
        "outputId": "fa4bc249-a4fa-48a6-9dc6-7733646ed223"
      },
      "outputs": [
        {
          "name": "stdout",
          "output_type": "stream",
          "text": [
            "Hello World!\n"
          ]
        }
      ],
      "source": [
        "print(\"Hello World!\")"
      ]
    }
  ],
  "metadata": {
    "colab": {
      "include_colab_link": true,
      "provenance": []
    },
    "kernelspec": {
      "display_name": "Python 3.10.7 64-bit",
      "language": "python",
      "name": "python3"
    },
    "language_info": {
      "codemirror_mode": {
        "name": "ipython",
        "version": 3
      },
      "file_extension": ".py",
      "mimetype": "text/x-python",
      "name": "python",
      "nbconvert_exporter": "python",
      "pygments_lexer": "ipython3",
      "version": "3.10.7"
    },
    "orig_nbformat": 4,
    "vscode": {
      "interpreter": {
        "hash": "eb4a0ac80907d7f44e1a5e88d3d3381b33e3dbedd3a24d113e876f30a0c46bee"
      }
    }
  },
  "nbformat": 4,
  "nbformat_minor": 0
}
