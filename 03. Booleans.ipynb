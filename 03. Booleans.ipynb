{
  "cells": [
    {
      "attachments": {},
      "cell_type": "markdown",
      "metadata": {},
      "source": [
        "# Booleans y Condicionales\n",
        "\n",
        "En este JNB se revisará el tema de Booleans y Condicionales."
      ]
    },
    {
      "cell_type": "code",
      "execution_count": null,
      "metadata": {},
      "outputs": [],
      "source": [
        "def sign(number):\n",
        "    \"\"\"Return the sign of a numerical argument.\n",
        "    \n",
        "    Args:\n",
        "        number (int or float): The numerical value.\n",
        "        \n",
        "    Returns:\n",
        "        int: -1 if the number is negative, 1 if it's positive, 0 if it's 0.\n",
        "    \"\"\"\n",
        "    if number < 0:\n",
        "        return -1\n",
        "    elif number > 0:\n",
        "        return 1\n",
        "    else:\n",
        "        return 0\n"
      ]
    },
    {
      "cell_type": "code",
      "execution_count": null,
      "metadata": {},
      "outputs": [],
      "source": [
        "#2\n",
        "def to_smash(total_candies):\n",
        "  \n",
        "    print(\"Splitting\", total_candies, \"candies\")\n",
        "    result = total_candies % 3\n",
        "    print(\"To smash:\", result, \"candies\")\n",
        "    return result\n",
        "\n",
        "to_smash(91)"
      ]
    },
    {
      "cell_type": "code",
      "execution_count": null,
      "metadata": {
        "id": "O8NoTzxjs2wK",
        "outputId": "fa4bc249-a4fa-48a6-9dc6-7733646ed223"
      },
      "outputs": [
        {
          "name": "stdout",
          "output_type": "stream",
          "text": [
            "Hello World!\n"
          ]
        }
      ],
      "source": [
        "print(\"Hello World!\")"
      ]
    }
  ],
  "metadata": {
    "colab": {
      "include_colab_link": true,
      "provenance": []
    },
    "kernelspec": {
      "display_name": "Python 3.10.7 64-bit",
      "language": "python",
      "name": "python3"
    },
    "language_info": {
      "codemirror_mode": {
        "name": "ipython",
        "version": 3
      },
      "file_extension": ".py",
      "mimetype": "text/x-python",
      "name": "python",
      "nbconvert_exporter": "python",
      "pygments_lexer": "ipython3",
      "version": "3.10.7"
    },
    "orig_nbformat": 4,
    "vscode": {
      "interpreter": {
        "hash": "eb4a0ac80907d7f44e1a5e88d3d3381b33e3dbedd3a24d113e876f30a0c46bee"
      }
    }
  },
  "nbformat": 4,
  "nbformat_minor": 0
}
