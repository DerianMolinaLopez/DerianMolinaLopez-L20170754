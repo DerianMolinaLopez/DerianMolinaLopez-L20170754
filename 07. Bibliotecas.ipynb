{
  "cells": [
    {
      "attachments": {},
      "cell_type": "markdown",
      "metadata": {},
      "source": [
        "# Bibliotecas Externas\n",
        "\n",
        "En este JNB se revisará el tema de Bibliotecas Externas."
      ]
    },
    {
      "cell_type": "code",
      "execution_count": null,
      "metadata": {},
      "outputs": [],
      "source": [
        "def blackjack_hand_greater_than(hand1, hand2):\n",
        "    \"\"\"\n",
        "    Determine if hand1 beats hand2 in a game of blackjack.\n",
        "\n",
        "    Each hand is represented as a list of strings, where each string is a card\n",
        "    (e.g., ['K', 'A'] represents a hand with a King and an Ace).\n",
        "\n",
        "    Return True if hand1 beats hand2, and False otherwise.\n",
        "    \"\"\"\n",
        "    # Define the card values in blackjack\n",
        "    card_values = {'2': 2, '3': 3, '4': 4, '5': 5, '6': 6, '7': 7, '8': 8, '9': 9, '10': 10, 'J': 10, 'Q': 10, 'K': 10, 'A': 11}\n",
        "\n",
        "    # Function to calculate the total value of a hand\n",
        "    def hand_value(hand):\n",
        "        total = sum(card_values[card] for card in hand)\n",
        "        # Handle the special case of Aces (count as 11 unless it would bust)\n",
        "        for card in hand:\n",
        "            if card == 'A' and total > 21:\n",
        "                total -= 10\n",
        "        return total\n",
        "\n",
        "    # Calculate the total values of both hands\n",
        "    value1 = hand_value(hand1)\n",
        "    value2 = hand_value(hand2)\n",
        "\n",
        "    # Determine the winner\n",
        "    if value1 > 21:\n",
        "        return False  # Hand1 busted, so hand2 wins\n",
        "    elif value2 > 21:\n",
        "        return True  # Hand2 busted, so hand1 wins\n",
        "    else:\n",
        "        return value1 > value2  # Compare total values\n",
        "\n",
        "# Example usage:\n",
        "hand1 = ['K', 'A']\n",
        "hand2 = ['7', '10', 'A']\n",
        "result = blackjack_hand_greater_than(hand1, hand2)\n",
        "print(result)  # Should print True\n",
        "\n"
      ]
    },
    {
      "cell_type": "code",
      "execution_count": null,
      "metadata": {
        "id": "O8NoTzxjs2wK",
        "outputId": "fa4bc249-a4fa-48a6-9dc6-7733646ed223"
      },
      "outputs": [
        {
          "name": "stdout",
          "output_type": "stream",
          "text": [
            "Hello World!\n"
          ]
        }
      ],
      "source": [
        "print(\"Hello World!\")"
      ]
    }
  ],
  "metadata": {
    "colab": {
      "include_colab_link": true,
      "provenance": []
    },
    "kernelspec": {
      "display_name": "Python 3.10.7 64-bit",
      "language": "python",
      "name": "python3"
    },
    "language_info": {
      "codemirror_mode": {
        "name": "ipython",
        "version": 3
      },
      "file_extension": ".py",
      "mimetype": "text/x-python",
      "name": "python",
      "nbconvert_exporter": "python",
      "pygments_lexer": "ipython3",
      "version": "3.10.7"
    },
    "orig_nbformat": 4,
    "vscode": {
      "interpreter": {
        "hash": "eb4a0ac80907d7f44e1a5e88d3d3381b33e3dbedd3a24d113e876f30a0c46bee"
      }
    }
  },
  "nbformat": 4,
  "nbformat_minor": 0
}
